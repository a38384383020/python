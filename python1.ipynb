{
  "nbformat": 4,
  "nbformat_minor": 0,
  "metadata": {
    "colab": {
      "name": "python1.ipynb",
      "provenance": [],
      "collapsed_sections": [],
      "authorship_tag": "ABX9TyPwAFzWW51bPIqI646ptOLJ",
      "include_colab_link": true
    },
    "kernelspec": {
      "name": "python3",
      "display_name": "Python 3"
    },
    "language_info": {
      "name": "python"
    }
  },
  "cells": [
    {
      "cell_type": "markdown",
      "metadata": {
        "id": "view-in-github",
        "colab_type": "text"
      },
      "source": [
        "<a href=\"https://colab.research.google.com/github/a38384383020/python/blob/main/python1.ipynb\" target=\"_parent\"><img src=\"https://colab.research.google.com/assets/colab-badge.svg\" alt=\"Open In Colab\"/></a>"
      ]
    },
    {
      "cell_type": "markdown",
      "source": [
        "Python物件\n",
        "List[串列] Tuple(元組) Dictionary{字典} Sets{集合}"
      ],
      "metadata": {
        "id": "J3NdcMYb5U0h"
      }
    },
    {
      "cell_type": "code",
      "execution_count": null,
      "metadata": {
        "colab": {
          "base_uri": "https://localhost:8080/"
        },
        "id": "GMBzk8da5OGG",
        "outputId": "ebefa6ec-2b43-4169-ea73-406d96a92b9f"
      },
      "outputs": [
        {
          "output_type": "stream",
          "name": "stdout",
          "text": [
            "90\n",
            "70\n",
            "95\n",
            "95\n"
          ]
        }
      ],
      "source": [
        "#List[串列]\n",
        "score=[90,70,80,88,95]\n",
        "print(score[0])\n",
        "print(score[1])\n",
        "print(score[4])\n",
        "print(score[-1])  #倒數第一個"
      ]
    },
    {
      "cell_type": "code",
      "source": [
        "score=[90,70,80,88,95]\n",
        "print(score[0:3])\n",
        "print(score[:3])\n",
        "print(score[3:])  #3到最後面\n",
        "print(score[:])  #印出全部"
      ],
      "metadata": {
        "colab": {
          "base_uri": "https://localhost:8080/"
        },
        "id": "pd19v-nDBjfg",
        "outputId": "39b6b446-245d-498d-8c52-ad30d914824a"
      },
      "execution_count": null,
      "outputs": [
        {
          "output_type": "stream",
          "name": "stdout",
          "text": [
            "[90, 70, 80]\n",
            "[90, 70, 80]\n",
            "[88, 95]\n",
            "[90, 70, 80, 88, 95]\n",
            "[70, 80]\n"
          ]
        }
      ]
    },
    {
      "cell_type": "code",
      "source": [
        "score=[90,70,80,88,95]\n",
        "print(score[0:5:2])\n",
        "print(score[::2])\n",
        "print(score[4:0:-1])\n",
        "print(score[0:4:-1])"
      ],
      "metadata": {
        "colab": {
          "base_uri": "https://localhost:8080/"
        },
        "id": "UxeuvZHgD0of",
        "outputId": "7dd06a31-3569-4b6e-cd9c-cc8c6e8351fa"
      },
      "execution_count": null,
      "outputs": [
        {
          "output_type": "stream",
          "name": "stdout",
          "text": [
            "[90, 80, 95]\n",
            "[90, 80, 95]\n",
            "[95, 88, 80, 70]\n",
            "[]\n",
            "[70]\n"
          ]
        }
      ]
    },
    {
      "cell_type": "code",
      "source": [
        "astr=\"abcdefghijklmnopqrstuvwxyz\"\n",
        "print(astr[0])\n",
        "print(astr[-1])\n",
        "print(astr[5:20])\n",
        "print(astr[5:20:3])\n",
        "print(astr[20:5:-1])\n",
        "print(astr[20:5:-3])\n",
        "print(astr[::-3])\n",
        "#print(astr[3:15:-1])"
      ],
      "metadata": {
        "colab": {
          "base_uri": "https://localhost:8080/"
        },
        "id": "9YGyUQZkFqc-",
        "outputId": "4255e97e-f884-473e-9fcd-15b82faad032"
      },
      "execution_count": null,
      "outputs": [
        {
          "output_type": "stream",
          "name": "stdout",
          "text": [
            "a\n",
            "z\n",
            "fghijklmnopqrst\n",
            "filor\n",
            "utsrqponmlkjihg\n",
            "uroli\n",
            "zwtqnkheb\n"
          ]
        }
      ]
    },
    {
      "cell_type": "code",
      "source": [
        "my_list0=[]\n",
        "print(my_list0)\n",
        "my_list1=list()\n",
        "print(my_list1)\n",
        "my_list2=[\"python\",\"javascript\",\"c#\"]\n",
        "print(my_list2)\n",
        "print(my_list2[0])\n",
        "my_list2.append('java')    #加入java\n",
        "print(my_list2)\n",
        "my_list2.remove('java')    #刪除java\n",
        "print(my_list2)\n",
        "my_list2.insert(1,'java')   #插入java\n",
        "print(my_list2)"
      ],
      "metadata": {
        "colab": {
          "base_uri": "https://localhost:8080/"
        },
        "id": "I80rytqH8pPj",
        "outputId": "6280404b-56fe-41d6-d18a-bb517238aa7b"
      },
      "execution_count": null,
      "outputs": [
        {
          "output_type": "stream",
          "name": "stdout",
          "text": [
            "[]\n",
            "[]\n",
            "['python', 'javascript', 'c#']\n",
            "python\n",
            "['python', 'javascript', 'c#', 'java']\n",
            "['python', 'javascript', 'c#']\n",
            "['python', 'java', 'javascript', 'c#']\n"
          ]
        }
      ]
    },
    {
      "cell_type": "code",
      "source": [
        "a=[1,2,3]\n",
        "b=[4,5,6]\n",
        "c=a+b\n",
        "print(c)\n",
        "d=2*a\n",
        "print(d)"
      ],
      "metadata": {
        "colab": {
          "base_uri": "https://localhost:8080/"
        },
        "id": "AMk53OAwDnXo",
        "outputId": "50325743-684e-4519-c179-f80cb9d04961"
      },
      "execution_count": null,
      "outputs": [
        {
          "output_type": "stream",
          "name": "stdout",
          "text": [
            "[1, 2, 3, 4, 5, 6]\n",
            "[1, 2, 3, 1, 2, 3]\n"
          ]
        }
      ]
    },
    {
      "cell_type": "markdown",
      "source": [
        "Turple(元組)\n",
        "\n",
        "tuple(元組)可視為不可改變的串列，tuple跟list很像，但是我們不能新增、刪除或更新tuple的元素。tuple的好處有：\n",
        "\n",
        "1.佔用較少空間\n",
        "\n",
        "2.可當作dictionary(字典)的鍵值\n",
        "\n",
        "3.可當作函式引數\n",
        "\n",
        "\n"
      ],
      "metadata": {
        "id": "IMX8V18kFjTP"
      }
    },
    {
      "cell_type": "code",
      "source": [
        "a_tuple=('python', 'js', 'SQL')\n",
        "print(a_tuple)\n",
        "b_list=['go', 'c#', 'vb']\n",
        "b_tuple=tuple(b_list)  #將List轉為Tuple\n",
        "print(b_tuple)\n",
        "print(b_tuple[0])"
      ],
      "metadata": {
        "colab": {
          "base_uri": "https://localhost:8080/"
        },
        "id": "a0eZlSDjFbVT",
        "outputId": "a8fe9206-a0b1-404c-a175-6c5bb5f1e7d7"
      },
      "execution_count": 1,
      "outputs": [
        {
          "output_type": "stream",
          "name": "stdout",
          "text": [
            "('python', 'js', 'SQL')\n",
            "('go', 'c#', 'vb')\n",
            "go\n"
          ]
        }
      ]
    },
    {
      "cell_type": "markdown",
      "source": [
        "字典(dictionary - dict)為帶有鍵值(key)的串列(list)\n",
        "\n",
        "dictionary與List不一樣的地方在於dict的索引值可改為\"字串\"\n",
        "\n"
      ],
      "metadata": {
        "id": "OWI0B3ldIxhr"
      }
    },
    {
      "cell_type": "code",
      "source": [
        "a_dict={0:'go',1:'c#',2:'vb'}\n",
        "print(a_dict)\n",
        "print(a_dict[0])\n",
        "print(a_dict[1])\n",
        "b_dict={'name':'tony','sex':'Male','sid':'B09090000'} #索引值自訂\n",
        "print(b_dict['name'])"
      ],
      "metadata": {
        "colab": {
          "base_uri": "https://localhost:8080/"
        },
        "id": "HTcCF_T4I0On",
        "outputId": "391ba6e7-ad45-44f7-8b77-ac500fd59778"
      },
      "execution_count": 3,
      "outputs": [
        {
          "output_type": "stream",
          "name": "stdout",
          "text": [
            "{0: 'go', 1: 'c#', 2: 'vb'}\n",
            "go\n",
            "c#\n",
            "tony\n"
          ]
        }
      ]
    },
    {
      "cell_type": "markdown",
      "source": [
        "Chap.4 numpy套件(numeric python)<br>\n",
        "為什麼需要numpy?<br>\n",
        "numpy由c撰寫，速度快python 10~1000倍以上<br>\n",
        "numpy儲存結果較正確，python數字儲存不正確<br>\n",
        "numpy節省記憶體儲存空間<br>\n",
        "numpy的向量(矩陣計算)速度快<br>\n",
        "numpy的取值方便"
      ],
      "metadata": {
        "id": "2-PoDT_fMIEY"
      }
    },
    {
      "cell_type": "code",
      "source": [
        "a_list=[1,2,3,4,5]\n",
        "print(a_list*3)"
      ],
      "metadata": {
        "colab": {
          "base_uri": "https://localhost:8080/"
        },
        "id": "drYnOnKdMVN5",
        "outputId": "58dec2bd-d3ee-4374-b08b-97ff513160d2"
      },
      "execution_count": 4,
      "outputs": [
        {
          "output_type": "stream",
          "name": "stdout",
          "text": [
            "[1, 2, 3, 4, 5, 1, 2, 3, 4, 5, 1, 2, 3, 4, 5]\n"
          ]
        }
      ]
    },
    {
      "cell_type": "code",
      "source": [
        "#numpy套件的ndarray型態,提供element-wise的操作\n",
        "import numpy as np\n",
        "a=np.array([1,2,3,4,5])\n",
        "print(a*3)"
      ],
      "metadata": {
        "colab": {
          "base_uri": "https://localhost:8080/"
        },
        "id": "XFi2GW4KM9G_",
        "outputId": "6349a082-63ab-413f-b09c-26e2ddc5b300"
      },
      "execution_count": 5,
      "outputs": [
        {
          "output_type": "stream",
          "name": "stdout",
          "text": [
            "[ 3  6  9 12 15]\n"
          ]
        }
      ]
    },
    {
      "cell_type": "code",
      "source": [
        "a=np.array([1,2,3,4,5])\n",
        "print(type(a))\n",
        "print(a.shape) #ndaary的形狀\n",
        "print(a.dtype) #資料的型態\n",
        "print(a.ndim) #維度"
      ],
      "metadata": {
        "colab": {
          "base_uri": "https://localhost:8080/"
        },
        "id": "SMXRKOBfN8VR",
        "outputId": "abca598b-8a03-4269-d65c-00e5cd8ef8c6"
      },
      "execution_count": 8,
      "outputs": [
        {
          "output_type": "stream",
          "name": "stdout",
          "text": [
            "<class 'numpy.ndarray'>\n",
            "(5,)\n",
            "int64\n",
            "1\n"
          ]
        }
      ]
    },
    {
      "cell_type": "code",
      "source": [
        "import numpy as np\n",
        "z=np.zeros(6)\n",
        "print(z)\n",
        "z=np.zeros((2,3,4))\n",
        "print(z)\n",
        "print(np.arange(10))"
      ],
      "metadata": {
        "colab": {
          "base_uri": "https://localhost:8080/"
        },
        "id": "0dmZvYf3SAZ1",
        "outputId": "820ed642-c351-4f93-8c31-fd8bc051630c"
      },
      "execution_count": 11,
      "outputs": [
        {
          "output_type": "stream",
          "name": "stdout",
          "text": [
            "[0. 0. 0. 0. 0. 0.]\n",
            "[[[0. 0. 0. 0.]\n",
            "  [0. 0. 0. 0.]\n",
            "  [0. 0. 0. 0.]]\n",
            "\n",
            " [[0. 0. 0. 0.]\n",
            "  [0. 0. 0. 0.]\n",
            "  [0. 0. 0. 0.]]]\n",
            "[0 1 2 3 4 5 6 7 8 9]\n"
          ]
        }
      ]
    },
    {
      "cell_type": "markdown",
      "source": [
        "2維資料取值"
      ],
      "metadata": {
        "id": "42zmMPyZUNe7"
      }
    },
    {
      "cell_type": "code",
      "source": [
        "my_2d_array=np.array([np.arange(0,5),np.arange(5,10)])\n",
        "print(my_2d_array)    #顯示全部資料\n",
        "print(my_2d_array[1,:]) #取第'1'維資料\n",
        "print(my_2d_array[:,1]) #取所有維度中,第'1'位置的資料\n",
        "print(my_2d_array[1,1]) #取第'1'維中第'1'位置的資料"
      ],
      "metadata": {
        "colab": {
          "base_uri": "https://localhost:8080/"
        },
        "id": "BZXYqvJCUAss",
        "outputId": "e1d5a8e6-2323-46af-e597-44da74e11c7e"
      },
      "execution_count": 12,
      "outputs": [
        {
          "output_type": "stream",
          "name": "stdout",
          "text": [
            "[[0 1 2 3 4]\n",
            " [5 6 7 8 9]]\n",
            "[5 6 7 8 9]\n",
            "[1 6]\n",
            "6\n"
          ]
        }
      ]
    },
    {
      "cell_type": "code",
      "source": [
        "a=np.zeros(10)\n",
        "print(a)\n",
        "print(a.ndim)   #一維List 1x10\n",
        "b=a.reshape(2,5) #改變a的維度為2x5\n",
        "print(b)"
      ],
      "metadata": {
        "colab": {
          "base_uri": "https://localhost:8080/"
        },
        "id": "e2JtB2D_XCje",
        "outputId": "a7ab7d88-ec8c-4a45-d4eb-8f29ac993732"
      },
      "execution_count": 14,
      "outputs": [
        {
          "output_type": "stream",
          "name": "stdout",
          "text": [
            "[0. 0. 0. 0. 0. 0. 0. 0. 0. 0.]\n",
            "1\n",
            "[[0. 0. 0. 0. 0.]\n",
            " [0. 0. 0. 0. 0.]]\n"
          ]
        }
      ]
    },
    {
      "cell_type": "markdown",
      "source": [
        "#函式:\n",
        "1.獨立的一組程式碼, 可以重複使用<br>\n",
        "2.通常可以有0-多個輸入, 0-1個輸出<br>\n",
        "3.函式輸入參數可以有預設值\n"
      ],
      "metadata": {
        "id": "mDXg5m0b61Z7"
      }
    },
    {
      "cell_type": "code",
      "source": [
        "#傳統程式寫法\n",
        "import math\n",
        "radius=eval(input(\"請輸入員的半徑: \"))\n",
        "area=radius * radius * math.pi\n",
        "print(\"圓的面積為: \",area)"
      ],
      "metadata": {
        "colab": {
          "base_uri": "https://localhost:8080/"
        },
        "id": "eZSCkeUy8dRj",
        "outputId": "d81cc540-4574-42bb-ffaf-c6aaa021e024"
      },
      "execution_count": null,
      "outputs": [
        {
          "output_type": "stream",
          "name": "stdout",
          "text": [
            "請輸入員的半徑: 5\n",
            "圓的面積為:  78.53981633974483\n"
          ]
        }
      ]
    },
    {
      "cell_type": "code",
      "source": [
        "#面積計算函示\n",
        "import math\n",
        "def circle_area(radius):\n",
        "  area=radius * radius *math.pi\n",
        "  return area\n",
        "\n",
        "print(circle_area(10))\n",
        "print(circle_area(5))"
      ],
      "metadata": {
        "colab": {
          "base_uri": "https://localhost:8080/"
        },
        "id": "Y_4XYYLe9qx8",
        "outputId": "07a37ba3-b101-48d9-cd03-c6040ccf2f2a"
      },
      "execution_count": null,
      "outputs": [
        {
          "output_type": "stream",
          "name": "stdout",
          "text": [
            "314.1592653589793\n",
            "78.53981633974483\n"
          ]
        }
      ]
    },
    {
      "cell_type": "markdown",
      "source": [
        "#錯誤處理\n",
        "try:<br>\n",
        "(需要檢測的程式碼)<br>\n",
        "except:<br>\n",
        "(錯誤時的處理方式)<br>\n",
        "else:<br>\n",
        "(如果沒有產生錯誤的處理方式)<br>\n",
        "finally:<br>\n",
        "(不管錯誤或執行正確，皆會進入處理方式)<br>\n",
        "可以只有except沒有finally<br>\n",
        "也可以有很多個except<br>\n",
        "但只能有一個finally<br>"
      ],
      "metadata": {
        "id": "Cw_iBwqiHGne"
      }
    },
    {
      "cell_type": "code",
      "source": [
        "a=5\n",
        "b=10\n",
        "if a<b:\n",
        "  print(n)"
      ],
      "metadata": {
        "colab": {
          "base_uri": "https://localhost:8080/",
          "height": 202
        },
        "id": "wteFbk7_IXbo",
        "outputId": "0e71bcc1-2b42-4eba-efdc-d2455850b117"
      },
      "execution_count": null,
      "outputs": [
        {
          "output_type": "error",
          "ename": "NameError",
          "evalue": "ignored",
          "traceback": [
            "\u001b[0;31m---------------------------------------------------------------------------\u001b[0m",
            "\u001b[0;31mNameError\u001b[0m                                 Traceback (most recent call last)",
            "\u001b[0;32m<ipython-input-3-d0c198a02d7f>\u001b[0m in \u001b[0;36m<module>\u001b[0;34m()\u001b[0m\n\u001b[1;32m      2\u001b[0m \u001b[0mb\u001b[0m\u001b[0;34m=\u001b[0m\u001b[0;36m10\u001b[0m\u001b[0;34m\u001b[0m\u001b[0;34m\u001b[0m\u001b[0m\n\u001b[1;32m      3\u001b[0m \u001b[0;32mif\u001b[0m \u001b[0ma\u001b[0m\u001b[0;34m<\u001b[0m\u001b[0mb\u001b[0m\u001b[0;34m:\u001b[0m\u001b[0;34m\u001b[0m\u001b[0;34m\u001b[0m\u001b[0m\n\u001b[0;32m----> 4\u001b[0;31m   \u001b[0mprint\u001b[0m\u001b[0;34m(\u001b[0m\u001b[0mn\u001b[0m\u001b[0;34m)\u001b[0m\u001b[0;34m\u001b[0m\u001b[0;34m\u001b[0m\u001b[0m\n\u001b[0m",
            "\u001b[0;31mNameError\u001b[0m: name 'n' is not defined"
          ]
        }
      ]
    },
    {
      "cell_type": "code",
      "source": [
        "try:\n",
        "  a=5\n",
        "  b=10\n",
        "  if a<b:\n",
        "    print(n)\n",
        "except NameError:\n",
        "  print(\"名稱錯誤\")\n",
        "except ZeroDivisionError:\n",
        "  print(\"處以零錯誤\")\n",
        "except:\n",
        "  print(\"錯誤產生\")\n",
        "else:\n",
        "  print(\"程式沒有錯誤\")\n",
        "finally:\n",
        "  print(\"程式結束\")"
      ],
      "metadata": {
        "colab": {
          "base_uri": "https://localhost:8080/"
        },
        "id": "pNpDCCcJJK0W",
        "outputId": "803838e6-310a-4b31-dc08-bc4cb58b1659"
      },
      "execution_count": null,
      "outputs": [
        {
          "output_type": "stream",
          "name": "stdout",
          "text": [
            "錯誤產生\n"
          ]
        }
      ]
    },
    {
      "cell_type": "markdown",
      "source": [
        "#chap6 檔案處理\n",
        "os套件:用來處理目錄與文件，以及檔案的讀寫"
      ],
      "metadata": {
        "id": "xElAphYt7uW6"
      }
    },
    {
      "cell_type": "code",
      "source": [
        "import os\n",
        "os.getcwd() #回傳目前的工作目錄"
      ],
      "metadata": {
        "id": "rEmFLDfmJdFh",
        "colab": {
          "base_uri": "https://localhost:8080/",
          "height": 35
        },
        "outputId": "405f1f4c-c52f-4397-cc2c-4f698fbb64cd"
      },
      "execution_count": null,
      "outputs": [
        {
          "output_type": "execute_result",
          "data": {
            "text/plain": [
              "'/content'"
            ],
            "application/vnd.google.colaboratory.intrinsic+json": {
              "type": "string"
            }
          },
          "metadata": {},
          "execution_count": 1
        }
      ]
    },
    {
      "cell_type": "code",
      "source": [
        "os.listdir(\".\") #列出目錄下所有檔案"
      ],
      "metadata": {
        "colab": {
          "base_uri": "https://localhost:8080/"
        },
        "id": "PEKUUlbV9GNQ",
        "outputId": "8193c722-1e99-438f-cff5-4531be52d20e"
      },
      "execution_count": null,
      "outputs": [
        {
          "output_type": "execute_result",
          "data": {
            "text/plain": [
              "['.config', 'sample_data']"
            ]
          },
          "metadata": {},
          "execution_count": 2
        }
      ]
    },
    {
      "cell_type": "code",
      "source": [
        "os.makedirs(\"test\") #新增test目錄\n",
        "os.listdir(\".\")"
      ],
      "metadata": {
        "colab": {
          "base_uri": "https://localhost:8080/"
        },
        "id": "9f1uxqge9k7Y",
        "outputId": "ff3badf6-db2f-44d1-ca3a-992fee9456ab"
      },
      "execution_count": null,
      "outputs": [
        {
          "output_type": "execute_result",
          "data": {
            "text/plain": [
              "['.config', 'test', 'sample_data']"
            ]
          },
          "metadata": {},
          "execution_count": 8
        }
      ]
    },
    {
      "cell_type": "code",
      "source": [
        "os.rmdir(\"test\") #移除test目錄\n",
        "os.listdir(\".\")"
      ],
      "metadata": {
        "colab": {
          "base_uri": "https://localhost:8080/"
        },
        "id": "qu6BN-Qj90zS",
        "outputId": "a1d92f01-d1d0-40f7-dc42-7c7ca16d54d8"
      },
      "execution_count": null,
      "outputs": [
        {
          "output_type": "execute_result",
          "data": {
            "text/plain": [
              "['.config', 'sample_data']"
            ]
          },
          "metadata": {},
          "execution_count": 9
        }
      ]
    },
    {
      "cell_type": "markdown",
      "source": [
        "#檔案處理\n",
        "os套件有自己的檔案處理命令，而比較常用的是python內建的open<br>\n",
        "w = 可寫(預設建立檔案) 若檔案存在則會清除舊檔案<br>\n",
        "w+ = 可寫可讀(預設建立檔案) 若檔案存在則會清除舊檔案<br>\n",
        "r = 可讀<br>\n",
        "r+ = 可寫可讀 但寫入資料指向開頭<br>\n",
        "a = 可寫不能讀 寫入資料指向尾端<br>\n",
        "a+ = 可寫可讀 寫入資料指向尾端<br>\n",
        "b = 轉為2進位文件<br>\n",
        "ab+ = 2進位文件的讀寫 寫入資料指向尾端"
      ],
      "metadata": {
        "id": "FQA2pC31_6K-"
      }
    },
    {
      "cell_type": "code",
      "source": [
        "#新增檔案\n",
        "a=open(\"a.txt\",\"w\")\n",
        "a.write(\"This is line\")\n",
        "a.write(\"This is line2\\n\")\n",
        "a.write(\"This is line3\\n\")\n",
        "a.close()"
      ],
      "metadata": {
        "id": "Wh_N_ZZo_6D3"
      },
      "execution_count": null,
      "outputs": []
    },
    {
      "cell_type": "code",
      "source": [
        "os.path.isfile(\"a.txt\")"
      ],
      "metadata": {
        "colab": {
          "base_uri": "https://localhost:8080/"
        },
        "id": "sniNTr4PBugQ",
        "outputId": "437dd047-7d75-4db7-ebe7-763e2236e099"
      },
      "execution_count": null,
      "outputs": [
        {
          "output_type": "execute_result",
          "data": {
            "text/plain": [
              "True"
            ]
          },
          "metadata": {},
          "execution_count": 13
        }
      ]
    },
    {
      "cell_type": "code",
      "source": [
        "a=open(\"a.txt\", \"r\")\n",
        "print(a.readlines())\n",
        "a.close()"
      ],
      "metadata": {
        "colab": {
          "base_uri": "https://localhost:8080/"
        },
        "id": "a-N3ALGlEvF2",
        "outputId": "eaf9f6ff-0419-4467-f29a-9a81c34c4009"
      },
      "execution_count": null,
      "outputs": [
        {
          "output_type": "stream",
          "name": "stdout",
          "text": [
            "['This is lineThis is line2\\n', 'This is line3\\n']\n"
          ]
        }
      ]
    },
    {
      "cell_type": "code",
      "source": [
        "if os.path.isfile(\"a.txt\"):\n",
        "  a=open(\"a.txt\", \"r\")\n",
        "  print(a.readlines())\n",
        "  a.close()\n",
        "else:\n",
        "  print(\"檔案不存在\")"
      ],
      "metadata": {
        "colab": {
          "base_uri": "https://localhost:8080/"
        },
        "id": "Z46EzHzgFBgx",
        "outputId": "dd7b56b3-4ce2-4801-ddd8-d1a2cc35c2ba"
      },
      "execution_count": null,
      "outputs": [
        {
          "output_type": "stream",
          "name": "stdout",
          "text": [
            "['This is lineThis is line2\\n', 'This is line3\\n']\n"
          ]
        }
      ]
    },
    {
      "cell_type": "markdown",
      "source": [
        "#附加檔案"
      ],
      "metadata": {
        "id": "fjvvjtT9IGd6"
      }
    },
    {
      "cell_type": "code",
      "source": [
        "a=open(\"a.txt\", \"a\") #參數a會把寫入資訊附加在檔案尾巴\n",
        "a.write(\"This is line4\\n\")\n",
        "a.close()"
      ],
      "metadata": {
        "id": "6W3UV1gpIKzG"
      },
      "execution_count": null,
      "outputs": []
    },
    {
      "cell_type": "code",
      "source": [
        "a=open(\"a.txt\", \"r\")\n",
        "print(a.readlines())\n",
        "a.close()"
      ],
      "metadata": {
        "colab": {
          "base_uri": "https://localhost:8080/"
        },
        "id": "HiwMrm8dIiQv",
        "outputId": "6eea2c4a-f37b-4411-84eb-3dd07daf93ce"
      },
      "execution_count": null,
      "outputs": [
        {
          "output_type": "stream",
          "name": "stdout",
          "text": [
            "['This is lineThis is line2\\n', 'This is line3\\n', 'This is line4\\n']\n"
          ]
        }
      ]
    },
    {
      "cell_type": "code",
      "source": [
        "a=open(\"a.txt\", \"r+\") #參數r+會把資訊附加在檔案開頭\n",
        "a.write(\"This is line5\\n\")\n",
        "a.close()"
      ],
      "metadata": {
        "id": "hAaVUU2IJGYC"
      },
      "execution_count": null,
      "outputs": []
    },
    {
      "cell_type": "code",
      "source": [
        "a=open(\"a.txt\", \"r\")\n",
        "print(a.readlines())\n",
        "a.close()"
      ],
      "metadata": {
        "colab": {
          "base_uri": "https://localhost:8080/"
        },
        "id": "Av0HJNTFJkB8",
        "outputId": "221b5316-28b9-4957-c65b-b73751dca406"
      },
      "execution_count": null,
      "outputs": [
        {
          "output_type": "stream",
          "name": "stdout",
          "text": [
            "['This is line5\\n', 'is is line2\\n', 'This is line3\\n', 'This is line4\\n']\n"
          ]
        }
      ]
    }
  ]
}